{
 "cells": [
  {
   "cell_type": "markdown",
   "id": "8ec0fde4",
   "metadata": {},
   "source": [
    "# Extraction des données complètes pour le Rhône"
   ]
  },
  {
   "cell_type": "markdown",
   "id": "5417a032",
   "metadata": {},
   "source": [
    "## 1"
   ]
  },
  {
   "cell_type": "code",
   "execution_count": null,
   "id": "42f6d8f2",
   "metadata": {},
   "outputs": [
    {
     "name": "stderr",
     "output_type": "stream",
     "text": [
      "C:\\Users\\cpecnik\\AppData\\Local\\Temp\\ipykernel_13852\\2819986297.py:2: DtypeWarning: Columns (9,16) have mixed types. Specify dtype option on import or set low_memory=False.\n",
      "  addresses = pd.read_csv(\"./datasets/adresses-69.csv\", sep=\";\")\n"
     ]
    }
   ],
   "source": [
    "import pandas as pd\n",
    "addresses = pd.read_csv(\"./datasets/adresses-69.csv\", sep=\";\")"
   ]
  },
  {
   "cell_type": "code",
   "execution_count": 7,
   "id": "82c3e2bc",
   "metadata": {},
   "outputs": [
    {
     "data": {
      "text/plain": [
       "[np.int64(69001),\n",
       " np.int64(69002),\n",
       " np.int64(69003),\n",
       " np.int64(69004),\n",
       " np.int64(69005),\n",
       " np.int64(69006),\n",
       " np.int64(69007),\n",
       " np.int64(69008),\n",
       " np.int64(69009),\n",
       " np.int64(69100),\n",
       " np.int64(69110),\n",
       " np.int64(69115),\n",
       " np.int64(69120),\n",
       " np.int64(69124),\n",
       " np.int64(69126),\n",
       " np.int64(69130),\n",
       " np.int64(69140),\n",
       " np.int64(69150),\n",
       " np.int64(69160),\n",
       " np.int64(69170),\n",
       " np.int64(69190),\n",
       " np.int64(69200),\n",
       " np.int64(69210),\n",
       " np.int64(69220),\n",
       " np.int64(69230),\n",
       " np.int64(69240),\n",
       " np.int64(69250),\n",
       " np.int64(69260),\n",
       " np.int64(69270),\n",
       " np.int64(69280),\n",
       " np.int64(69290),\n",
       " np.int64(69300),\n",
       " np.int64(69310),\n",
       " np.int64(69320),\n",
       " np.int64(69330),\n",
       " np.int64(69340),\n",
       " np.int64(69350),\n",
       " np.int64(69360),\n",
       " np.int64(69370),\n",
       " np.int64(69380),\n",
       " np.int64(69390),\n",
       " np.int64(69400),\n",
       " np.int64(69410),\n",
       " np.int64(69420),\n",
       " np.int64(69430),\n",
       " np.int64(69440),\n",
       " np.int64(69450),\n",
       " np.int64(69460),\n",
       " np.int64(69470),\n",
       " np.int64(69480),\n",
       " np.int64(69490),\n",
       " np.int64(69500),\n",
       " np.int64(69510),\n",
       " np.int64(69520),\n",
       " np.int64(69530),\n",
       " np.int64(69540),\n",
       " np.int64(69550),\n",
       " np.int64(69560),\n",
       " np.int64(69570),\n",
       " np.int64(69580),\n",
       " np.int64(69590),\n",
       " np.int64(69600),\n",
       " np.int64(69610),\n",
       " np.int64(69620),\n",
       " np.int64(69630),\n",
       " np.int64(69640),\n",
       " np.int64(69650),\n",
       " np.int64(69660),\n",
       " np.int64(69670),\n",
       " np.int64(69680),\n",
       " np.int64(69690),\n",
       " np.int64(69700),\n",
       " np.int64(69720),\n",
       " np.int64(69730),\n",
       " np.int64(69740),\n",
       " np.int64(69760),\n",
       " np.int64(69770),\n",
       " np.int64(69780),\n",
       " np.int64(69790),\n",
       " np.int64(69800),\n",
       " np.int64(69820),\n",
       " np.int64(69830),\n",
       " np.int64(69840),\n",
       " np.int64(69850),\n",
       " np.int64(69860),\n",
       " np.int64(69870),\n",
       " np.int64(69890),\n",
       " np.int64(69910),\n",
       " np.int64(69930),\n",
       " np.int64(69960),\n",
       " np.int64(69970)]"
      ]
     },
     "execution_count": 7,
     "metadata": {},
     "output_type": "execute_result"
    }
   ],
   "source": [
    "postal_codes = sorted(addresses[\"code_postal\"].unique())\n",
    "postal_codes"
   ]
  },
  {
   "cell_type": "markdown",
   "id": "fb08da7f",
   "metadata": {},
   "source": [
    "# 2"
   ]
  },
  {
   "cell_type": "code",
   "execution_count": null,
   "id": "d008e4a1",
   "metadata": {},
   "outputs": [
    {
     "name": "stdout",
     "output_type": "stream",
     "text": [
      "Statut de la réponse : 200\n",
      "Nombre total de lignes : 25304\n",
      "Divisible en 8 page(s)\n"
     ]
    }
   ],
   "source": [
    "import requests\n",
    "import json\n",
    "\n",
    "def trouve_diviseur_avec_limite(total, limite=5000, div_min=4):\n",
    "    for diviseur in range(div_min, total + 1):\n",
    "        if total % diviseur == 0:\n",
    "            ask_per_pages = total / diviseur\n",
    "            if ask_per_pages <= limite:\n",
    "                return diviseur\n",
    "    return None\n",
    "\n",
    "base_url = \"https://data.ademe.fr/data-fair/api/v1/datasets/dpe03existant/lines\"\n",
    "\n",
    "i = 1\n",
    "\n",
    "params = {\n",
    "    \"page\": i,\n",
    "    \"size\": 5000,\n",
    "    \"q\": \"69008\",\n",
    "    \"qs\": \"date_reception_dpe:[2021-01-01 TO *]\"\n",
    "}\n",
    "\n",
    "response = requests.get(base_url, params=params)\n",
    "\n",
    "print(f\"Statut de la réponse : {response.status_code}\")\n",
    "\n",
    "if response.status_code == 200:\n",
    "    content = response.json()\n",
    "    total = content['total']\n",
    "\n",
    "    print(f\"Nombre total de lignes : {total}\")\n",
    "    \n",
    "    min_div = trouve_diviseur_avec_limite(total)\n",
    "    print(f\"Divisible en {min_div} page(s)\")\n",
    "else:\n",
    "    print(\"Erreur lors de la requête\")"
   ]
  },
  {
   "cell_type": "code",
   "execution_count": 16,
   "id": "c4ee20c9",
   "metadata": {},
   "outputs": [
    {
     "name": "stdout",
     "output_type": "stream",
     "text": [
      "Demande de 3163.0 objets par page(s)\n"
     ]
    }
   ],
   "source": [
    "ask_per_pages = total / min_div\n",
    "print(f\"Demande de {ask_per_pages} objets par page(s)\")"
   ]
  },
  {
   "cell_type": "code",
   "execution_count": null,
   "id": "b05e9243",
   "metadata": {},
   "outputs": [
    {
     "name": "stdout",
     "output_type": "stream",
     "text": [
      "Statut de la réponse : 200\n",
      "Nombre total de lignes : 11101\n",
      "Divisible en 17 page(s)\n",
      "Demande de 653 objets par page(s)\n",
      "Code postal : 69001\n",
      "Statut de la réponse : 200\n",
      "Page : 1\n",
      "Statut de la réponse : 200\n",
      "Page : 2\n",
      "Statut de la réponse : 200\n",
      "Page : 3\n",
      "Statut de la réponse : 200\n",
      "Page : 4\n",
      "Statut de la réponse : 200\n",
      "Page : 5\n",
      "Statut de la réponse : 200\n",
      "Page : 6\n",
      "Statut de la réponse : 200\n",
      "Page : 7\n",
      "Statut de la réponse : 200\n",
      "Page : 8\n",
      "Statut de la réponse : 200\n",
      "Page : 9\n",
      "Statut de la réponse : 200\n",
      "Page : 10\n",
      "Statut de la réponse : 200\n",
      "Page : 11\n",
      "Statut de la réponse : 200\n",
      "Page : 12\n",
      "Statut de la réponse : 200\n",
      "Page : 13\n",
      "Statut de la réponse : 200\n",
      "Page : 14\n",
      "Statut de la réponse : 200\n",
      "Page : 15\n",
      "Statut de la réponse : 400\n",
      "Erreur lors de la requête\n",
      "Statut de la réponse : 400\n",
      "Erreur lors de la requête\n",
      "Statut de la réponse : 200\n",
      "Nombre total de lignes : 12640\n",
      "Divisible en 4 page(s)\n",
      "Demande de 3160 objets par page(s)\n",
      "Code postal : 69002\n",
      "Statut de la réponse : 200\n",
      "Page : 1\n",
      "Statut de la réponse : 200\n",
      "Page : 2\n",
      "Statut de la réponse : 200\n",
      "Page : 3\n",
      "Statut de la réponse : 400\n",
      "Erreur lors de la requête\n"
     ]
    }
   ],
   "source": [
    "all_data = []\n",
    "\n",
    "for i in postal_codes:\n",
    "    params = {\n",
    "        \"page\": 1,\n",
    "        \"size\": 5000,\n",
    "        \"q\": i,\n",
    "        \"q_fields\": \"code_postal_ban\",\n",
    "        \"qs\": \"date_reception_dpe:[2021-01-01 TO *]\"\n",
    "    }\n",
    "\n",
    "    response = requests.get(base_url, params=params)\n",
    "\n",
    "    print(f\"Statut de la réponse : {response.status_code}\")\n",
    "\n",
    "    if response.status_code == 200:\n",
    "        content = response.json()\n",
    "        total = content['total']\n",
    "        print(f\"Nombre total de lignes : {total}\")\n",
    "\n",
    "        min_div = trouve_diviseur_avec_limite(total)\n",
    "        if min_div is None:\n",
    "            print(\"Aucun diviseur valide trouvé, on saute ce code postal.\")\n",
    "            continue\n",
    "\n",
    "        print(f\"Divisible en {min_div} page(s)\")\n",
    "\n",
    "        ask_per_pages = int(total / min_div)\n",
    "        print(f\"Demande de {ask_per_pages} objets par page(s)\")\n",
    "\n",
    "    else:\n",
    "        print(\"Erreur lors de la requête\")\n",
    "        continue\n",
    "\n",
    "    print(f\"Code postal : {i}\")\n",
    "\n",
    "    for y in range(min_div):\n",
    "        params = {\n",
    "            \"page\": y + 1,\n",
    "            \"size\": ask_per_pages,\n",
    "            \"q\": i,\n",
    "            \"q_fields\": \"code_postal_ban\",\n",
    "            \"qs\": \"date_reception_dpe:[2021-01-01 TO *]\"\n",
    "        }\n",
    "\n",
    "        response = requests.get(base_url, params=params)\n",
    "        print(f\"Statut de la réponse : {response.status_code}\")\n",
    "\n",
    "        if response.status_code == 200:\n",
    "            content = response.json()\n",
    "            results = content.get('results', [])\n",
    "            if results:\n",
    "                all_data.extend(results)\n",
    "        else:\n",
    "            print(\"Erreur lors de la requête\")\n",
    "            continue\n",
    "\n",
    "        print(f\"Page : {y + 1}\")\n",
    "\n",
    "df = pd.DataFrame(all_data)\n",
    "\n",
    "df.to_csv(\"existants_69.csv\", index=False)"
   ]
  }
 ],
 "metadata": {
  "kernelspec": {
   "display_name": ".venv",
   "language": "python",
   "name": "python3"
  },
  "language_info": {
   "codemirror_mode": {
    "name": "ipython",
    "version": 3
   },
   "file_extension": ".py",
   "mimetype": "text/x-python",
   "name": "python",
   "nbconvert_exporter": "python",
   "pygments_lexer": "ipython3",
   "version": "3.13.5"
  }
 },
 "nbformat": 4,
 "nbformat_minor": 5
}
